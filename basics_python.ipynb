{
  "nbformat": 4,
  "nbformat_minor": 0,
  "metadata": {
    "colab": {
      "name": "basics-python.ipynb",
      "provenance": [],
      "collapsed_sections": [],
      "authorship_tag": "ABX9TyMitekOOQqBy2seavFaRGUf",
      "include_colab_link": true
    },
    "kernelspec": {
      "name": "python3",
      "display_name": "Python 3"
    },
    "language_info": {
      "name": "python"
    }
  },
  "cells": [
    {
      "cell_type": "markdown",
      "metadata": {
        "id": "view-in-github",
        "colab_type": "text"
      },
      "source": [
        "<a href=\"https://colab.research.google.com/github/agails/Python-Examples/blob/main/basics_python.ipynb\" target=\"_parent\"><img src=\"https://colab.research.google.com/assets/colab-badge.svg\" alt=\"Open In Colab\"/></a>"
      ]
    },
    {
      "cell_type": "markdown",
      "metadata": {
        "id": "4lNGctiB42g2"
      },
      "source": [
        "1. Faça um algoritmo para resolver a equação z = x + y - 4, armazenando o resultado na variável z. Considere que os valores iniciais de x e y são, respectivamente, 10 e 5. Depois disso exiba o resultado."
      ]
    },
    {
      "cell_type": "code",
      "metadata": {
        "colab": {
          "base_uri": "https://localhost:8080/"
        },
        "id": "vCGiBjbb46b3",
        "outputId": "793ab5a0-7c38-4b51-ef19-7730637dd5c2"
      },
      "source": [
        "x = 10\n",
        "y = 5\n",
        "z = x + y - 4\n",
        "print(z)"
      ],
      "execution_count": 3,
      "outputs": [
        {
          "output_type": "stream",
          "text": [
            "11\n"
          ],
          "name": "stdout"
        }
      ]
    },
    {
      "cell_type": "markdown",
      "metadata": {
        "id": "ZYwYglHr3kLC"
      },
      "source": [
        "2. Faça um algoritmo para resolver a equação z = a * a - b + c, armazenando o resultado na variável z. Considere que os valores iniciais de a, b e c são, respecitvamente, 4, 6.5 e 10.5. Depois disso exiba o resultado."
      ]
    },
    {
      "cell_type": "code",
      "metadata": {
        "colab": {
          "base_uri": "https://localhost:8080/"
        },
        "id": "29JSkxU94TQH",
        "outputId": "36bdc629-f9bb-44a6-afcf-98c2c88c7444"
      },
      "source": [
        "a = 4\n",
        "b = 6.5 \n",
        "c = 10.5\n",
        "z = a * a - b + c\n",
        "print(z)"
      ],
      "execution_count": 2,
      "outputs": [
        {
          "output_type": "stream",
          "text": [
            "20.0\n"
          ],
          "name": "stdout"
        }
      ]
    },
    {
      "cell_type": "markdown",
      "metadata": {
        "id": "x10Pj_va6QB0"
      },
      "source": [
        "3. Faça um algoritmo que solicite o nome do usuário e depois escreva o nome da pessoa no console."
      ]
    },
    {
      "cell_type": "code",
      "metadata": {
        "colab": {
          "base_uri": "https://localhost:8080/"
        },
        "id": "Kj8CjOsC6iBy",
        "outputId": "bd3f09f9-3ba4-424b-ee6a-225f8384a0e6"
      },
      "source": [
        "nome = input(\"Digite seu nome: \")\n",
        "print(nome)"
      ],
      "execution_count": 5,
      "outputs": [
        {
          "output_type": "stream",
          "text": [
            "Digite seu nome: Agail\n",
            "Agail\n"
          ],
          "name": "stdout"
        }
      ]
    },
    {
      "cell_type": "markdown",
      "metadata": {
        "id": "oUljR2v96isl"
      },
      "source": [
        "4. Faça um algoritmo que pergunte ao usuário quantos anos ele tem, depois disso, escreva True no console, caso ele já tenha alcançado a maioridade (18 anos), caso contrário escreva False."
      ]
    },
    {
      "cell_type": "code",
      "metadata": {
        "colab": {
          "base_uri": "https://localhost:8080/"
        },
        "id": "jKwWZmTB6lTP",
        "outputId": "3384e240-4e36-4795-dada-9873e612a684"
      },
      "source": [
        "idade = input(\"Digite sua idade: \")\n",
        "teste = idade >= \"18\"\n",
        "print(teste)"
      ],
      "execution_count": 11,
      "outputs": [
        {
          "output_type": "stream",
          "text": [
            "Digite sua idade: 10\n",
            "False\n"
          ],
          "name": "stdout"
        }
      ]
    },
    {
      "cell_type": "markdown",
      "metadata": {
        "id": "Z75EqKJM6lxK"
      },
      "source": [
        "5. Faça um algoritmo que solicite um número ao usuário, depois disso, escreva True no console, caso o número tenha dois dígitos (Esteja entre 10 e 99), caso contrário escreva False."
      ]
    },
    {
      "cell_type": "code",
      "metadata": {
        "id": "WSBy9N8s6nh8"
      },
      "source": [
        "numero = input(\"Digite um número: \")\n",
        "dois_digitos = numero >= 10 and numero <= 99\n",
        "print(dois_digitos) "
      ],
      "execution_count": null,
      "outputs": []
    }
  ]
}