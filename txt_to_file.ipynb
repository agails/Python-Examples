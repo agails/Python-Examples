{
  "nbformat": 4,
  "nbformat_minor": 0,
  "metadata": {
    "colab": {
      "name": "texto_em_arquivo.ipynb",
      "provenance": [],
      "authorship_tag": "ABX9TyP+qxVxQnMsIY1mV7QBMilI",
      "include_colab_link": true
    },
    "kernelspec": {
      "name": "python3",
      "display_name": "Python 3"
    },
    "language_info": {
      "name": "python"
    }
  },
  "cells": [
    {
      "cell_type": "markdown",
      "metadata": {
        "id": "view-in-github",
        "colab_type": "text"
      },
      "source": [
        "<a href=\"https://colab.research.google.com/github/agails/Python-Examples/blob/main/txt_to_file.ipynb\" target=\"_parent\"><img src=\"https://colab.research.google.com/assets/colab-badge.svg\" alt=\"Open In Colab\"/></a>"
      ]
    },
    {
      "cell_type": "markdown",
      "metadata": {
        "id": "d85k1cR3IgJ0"
      },
      "source": [
        "## Criar arquivo de texto .txt com open()\n",
        "\n",
        "A primeira etapa ao gravar em um arquivo é criar o objeto usando o comando embutido no Python “open”. Para criar e gravar em um novo arquivo, use open com a opção “w”. A opção “w” excluirá qualquer arquivo com o mesmo nome existente e criará um novo arquivo com o nome atribuído."
      ]
    },
    {
      "cell_type": "code",
      "metadata": {
        "id": "XVTJ6e6qH48A"
      },
      "source": [
        "teste = open(\"teste_w.txt\", \"w\")"
      ],
      "execution_count": null,
      "outputs": []
    },
    {
      "cell_type": "markdown",
      "metadata": {
        "id": "YyAj_o9FKED9"
      },
      "source": [
        "Ou se você deseja anexar conteúdo a um arquivo existente, use a instrução open com a opção “a”. No modo append, Python criará o arquivo se ele não existir."
      ]
    },
    {
      "cell_type": "code",
      "metadata": {
        "id": "9pNcDrP-KDnc"
      },
      "source": [
        "teste = open(\"teste_a.txt\", \"a\")"
      ],
      "execution_count": null,
      "outputs": []
    },
    {
      "cell_type": "markdown",
      "metadata": {
        "id": "sRxrK2IBKe1g"
      },
      "source": [
        "Depois de criar o objeto no modo Write/Append, você pode escrever o texto de várias maneiras. Digamos que temos o texto que queremos escrever em uma lista “textList”."
      ]
    },
    {
      "cell_type": "code",
      "metadata": {
        "id": "fjH80qzMKv0h"
      },
      "source": [
        "textList = [\"One\", \"Two\", \"Three\", \"Four\", \"Five\"]"
      ],
      "execution_count": null,
      "outputs": []
    },
    {
      "cell_type": "markdown",
      "metadata": {
        "id": "55LWgtzQK84F"
      },
      "source": [
        "Podemos escrever esta lista em um arquivo linha a linha ou escrever todas as linhas de uma vez. \n",
        "### Gravando uma linha por vez em um arquivo em Python usando write()\n",
        "Vamos criar um novo arquivo usando a opção “w” como vimos antes. Para escrever linha por linha, vamos percorrer textList, obtendo cada elemento e gravando linha a linha no arquivo."
      ]
    },
    {
      "cell_type": "code",
      "metadata": {
        "id": "qFix6ZgcLmJu"
      },
      "source": [
        "saida = open(\"teste_write.txt\", \"w\")\n",
        "for line in textList:\n",
        "  # escrevendo uma linha para o arquivo de saída\n",
        "  saida.write(line)\n",
        "  saida.write(\"\\n\")\n",
        "saida.close()"
      ],
      "execution_count": null,
      "outputs": []
    },
    {
      "cell_type": "markdown",
      "metadata": {
        "id": "9zHWOjumMcRr"
      },
      "source": [
        "Analisando o código acima observe que os elementos em “textList” não possuem um caractere de nova linha “\\n”. Portanto, para realizar a \"quebra de linha\" devemos adicionar isso ao gravar cada linha no arquivo. Caso contrário, todos os cinco elementos estarão em uma única linha no arquivo de saída. Observe também o .close() no final. O método close() fecha o acesso ao arquivo. É uma boa prática usar o método close() para fechar um arquivo, assim que terminarmos de escrever nele.\n",
        "\n",
        "### writelines(): Gravando todas as linhas de uma vez em um arquivo com Python\n",
        "\n",
        "Python também possui um método que pode gravar todas as linhas ao mesmo tempo em um arquivo. O método “writelines()” do Python pega uma lista de linhas como entrada e grava em um objeto que é aberto com acesso de Write/Append. Por exemplo, para escrever nossa lista de todas as linhas “all_lines”, usando “writelines()."
      ]
    },
    {
      "cell_type": "code",
      "metadata": {
        "id": "Fx3qOdg5M5Ob"
      },
      "source": [
        "f = open(\"teste_writelines.txt\", \"a\")\n",
        "f.writelines(textList)\n",
        "f.close()"
      ],
      "execution_count": 5,
      "outputs": []
    }
  ]
}