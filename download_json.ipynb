{
  "nbformat": 4,
  "nbformat_minor": 0,
  "metadata": {
    "colab": {
      "name": "download_json.ipynb",
      "provenance": [],
      "collapsed_sections": [],
      "authorship_tag": "ABX9TyPv/HewV/UDP4FWUpzA90KV",
      "include_colab_link": true
    },
    "kernelspec": {
      "name": "python3",
      "display_name": "Python 3"
    },
    "language_info": {
      "name": "python"
    }
  },
  "cells": [
    {
      "cell_type": "markdown",
      "metadata": {
        "id": "view-in-github",
        "colab_type": "text"
      },
      "source": [
        "<a href=\"https://colab.research.google.com/github/agails/Python-Examples/blob/main/download_json.ipynb\" target=\"_parent\"><img src=\"https://colab.research.google.com/assets/colab-badge.svg\" alt=\"Open In Colab\"/></a>"
      ]
    },
    {
      "cell_type": "markdown",
      "metadata": {
        "id": "Byv41MpeGQR8"
      },
      "source": [
        "Comandos para obter dados de saída json de um site remoto ou local\n",
        "\n",
        "### Método 1 \n",
        "\n",
        "Obtenha os dados direto do URL e carregue com json.loads, por exemplo"
      ]
    },
    {
      "cell_type": "code",
      "metadata": {
        "colab": {
          "base_uri": "https://localhost:8080/"
        },
        "id": "NY_qLs8U3Fgn",
        "outputId": "8fdba207-0552-40f9-e459-faa762fb66b7"
      },
      "source": [
        "import urllib.request as urllib\n",
        "import json\n",
        "\n",
        "url = \"https://www.boredapi.com/api/activity\"\n",
        "\n",
        "response = urllib.urlopen(url)\n",
        "\n",
        "data = json.loads(response.read())\n",
        "\n",
        "print(json.dumps(data, indent=4, sort_keys=True))"
      ],
      "execution_count": 12,
      "outputs": [
        {
          "output_type": "stream",
          "text": [
            "{\n",
            "    \"accessibility\": 0.8,\n",
            "    \"activity\": \"Improve your touch typing\",\n",
            "    \"key\": \"2526437\",\n",
            "    \"link\": \"https://en.wikipedia.org/wiki/Touch_typing\",\n",
            "    \"participants\": 1,\n",
            "    \"price\": 0,\n",
            "    \"type\": \"busywork\"\n",
            "}\n"
          ],
          "name": "stdout"
        }
      ]
    },
    {
      "cell_type": "markdown",
      "metadata": {
        "id": "sXwjz_vyGwoD"
      },
      "source": [
        "### Método 2\n",
        "\n",
        "Ou utilizar o decoder JSON da biblioteca requests"
      ]
    },
    {
      "cell_type": "code",
      "metadata": {
        "colab": {
          "base_uri": "https://localhost:8080/"
        },
        "id": "YxjvG7xmGxFP",
        "outputId": "32e5fc8f-cd1f-4a41-defc-bb170e9c395d"
      },
      "source": [
        "import requests\n",
        "\n",
        "url = \"https://www.boredapi.com/api/activity\"\n",
        "\n",
        "r = requests.get(url)\n",
        "\n",
        "print(json.dumps(r.json(), indent=4, sort_keys=True))"
      ],
      "execution_count": 14,
      "outputs": [
        {
          "output_type": "stream",
          "text": [
            "{\n",
            "    \"accessibility\": 0.9,\n",
            "    \"activity\": \"Listen to music you haven't heard in a while\",\n",
            "    \"key\": \"4296813\",\n",
            "    \"link\": \"\",\n",
            "    \"participants\": 1,\n",
            "    \"price\": 0.05,\n",
            "    \"type\": \"music\"\n",
            "}\n"
          ],
          "name": "stdout"
        }
      ]
    }
  ]
}