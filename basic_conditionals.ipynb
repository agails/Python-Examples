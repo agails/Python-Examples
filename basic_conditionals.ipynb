{
  "nbformat": 4,
  "nbformat_minor": 0,
  "metadata": {
    "colab": {
      "name": "basic-conditionals.ipynb",
      "provenance": [],
      "authorship_tag": "ABX9TyM/FALp9csndP9l3YVM7/d6",
      "include_colab_link": true
    },
    "kernelspec": {
      "name": "python3",
      "display_name": "Python 3"
    },
    "language_info": {
      "name": "python"
    }
  },
  "cells": [
    {
      "cell_type": "markdown",
      "metadata": {
        "id": "view-in-github",
        "colab_type": "text"
      },
      "source": [
        "<a href=\"https://colab.research.google.com/github/agails/Python-Examples/blob/main/basic_conditionals.ipynb\" target=\"_parent\"><img src=\"https://colab.research.google.com/assets/colab-badge.svg\" alt=\"Open In Colab\"/></a>"
      ]
    },
    {
      "cell_type": "markdown",
      "metadata": {
        "id": "hsKWJY8TGmuV"
      },
      "source": [
        "1. Faça um algoritmo que solicite 3 notas para o usuário, calcule a média e indique se o aluno foi aprovado ou reprovado (nota precisar ser maior ou igual à sete para o aluno ser aprovado)."
      ]
    },
    {
      "cell_type": "code",
      "metadata": {
        "colab": {
          "base_uri": "https://localhost:8080/"
        },
        "id": "OaiD4ZTHG9g_",
        "outputId": "f796882e-7f46-4513-a40b-be0f6fb5f298"
      },
      "source": [
        "nota1 = int(input(\"Digite a primeira nota: \"))\n",
        "nota2 = int(input(\"Digite a segunda nota: \"))\n",
        "nota3 = int(input(\"Digite a terceira nota: \"))\n",
        "\n",
        "media = (nota1 + nota2 + nota3)/3\n",
        "\n",
        "if media < 7:\n",
        "  print(\"Reprovado\")\n",
        "else:\n",
        "  print(\"Aprovado\")"
      ],
      "execution_count": null,
      "outputs": [
        {
          "output_type": "stream",
          "text": [
            "Digite a primeira nota: 10\n",
            "Digite a segunda nota: 6\n",
            "Digite a terceira nota: 8\n",
            "Aprovado\n"
          ],
          "name": "stdout"
        }
      ]
    },
    {
      "cell_type": "markdown",
      "metadata": {
        "id": "vugtMfhZG_Jx"
      },
      "source": [
        "2. Faça um algoritmo que solicite o ano que o usuário nasceu, depois disso, faça o programa descrever se o usuário fará ou já fez 18 anos neste ano."
      ]
    },
    {
      "cell_type": "code",
      "metadata": {
        "colab": {
          "base_uri": "https://localhost:8080/"
        },
        "id": "f3X45y4-HC6C",
        "outputId": "174e3f95-d410-402a-81f7-8f89828486cb"
      },
      "source": [
        "import datetime\n",
        "\n",
        "hoje = datetime.date.today()\n",
        "esseano = int(hoje.strftime(\"%Y\"))\n",
        "\n",
        "anonasc = int(input(\"Digite o ano do seu nascimento: \"))\n",
        "\n",
        "idade = esseano - anonasc\n",
        "\n",
        "if idade < 18:\n",
        "  print(\"Você ainda não fez 18 anos\")\n",
        "elif idade == 18:\n",
        "  print(\"Você faz 18 esse ano!\")\n",
        "else:\n",
        "  print(\"Você já fez 18 anos\")"
      ],
      "execution_count": null,
      "outputs": [
        {
          "output_type": "stream",
          "text": [
            "Digite o ano do seu nascimento: 1981\n",
            "Você já fez 18 anos\n"
          ],
          "name": "stdout"
        }
      ]
    },
    {
      "cell_type": "markdown",
      "metadata": {
        "id": "4auDzlH-HES8"
      },
      "source": [
        "3. Faça um programa que solicite ao usuário sua idade, depois disso, exiba a classificação etária de acordo com as faixas de valores:\n",
        "- Criança para 0 até 11 anos;\n",
        "- Adolescente para 12 até 18 anos;\n",
        "- Jovem para 19 até 24 anos;\n",
        "- Adulto para 25 até 40 anos;\n",
        "- Meia Idade para 41 até 60 anos;\n",
        "- Idoso acima de 60 anos.\n",
        "\n"
      ]
    },
    {
      "cell_type": "code",
      "metadata": {
        "colab": {
          "base_uri": "https://localhost:8080/"
        },
        "id": "us6OIPZNDILx",
        "outputId": "68708927-c98c-4fd1-d78f-e3e865a8309d"
      },
      "source": [
        "idade = int(input(\"Digite a sua idade: \"))\n",
        "\n",
        "if idade <= 11:\n",
        "  print(\"Você é uma Criança\")\n",
        "elif idade >= 12 and idade <= 18:\n",
        "  print(\"Você é um Adolescente\")\n",
        "elif idade >= 19 and idade <= 24:\n",
        "  print(\"Você é um Jovem\")\n",
        "elif idade >= 25 and idade <= 40:\n",
        "  print(\"Você é um Adulto\")\n",
        "elif idade >= 41 and idade <= 60:\n",
        "  print(\"Você é uma pessoa de Meia Idade\")\n",
        "elif idade > 60:\n",
        "  print(\"Você é um Idoso\")"
      ],
      "execution_count": null,
      "outputs": [
        {
          "output_type": "stream",
          "text": [
            "Digite a sua idade: 13\n",
            "Você é um Adolescente\n"
          ],
          "name": "stdout"
        }
      ]
    },
    {
      "cell_type": "markdown",
      "metadata": {
        "id": "z4_z_LFUHOhB"
      },
      "source": [
        "4. Faça um programa que solicite ao usuário 2 valores, utilize uma condição ternária para escrever qual o maior valor: o primeiro ou o segundo (caso os valores sejam iguais, considere o segundo)."
      ]
    },
    {
      "cell_type": "code",
      "metadata": {
        "colab": {
          "base_uri": "https://localhost:8080/"
        },
        "id": "40A3fK9zHSmr",
        "outputId": "b83e50a6-1664-402c-91e7-1c9e4a713196"
      },
      "source": [
        "valor1 = input(\"Digite um número: \")\n",
        "valor2 = input(\"Digite outro número: \")\n",
        "\n",
        "print( \"Primeiro\" if valor1 > valor2 else \"Segundo\")"
      ],
      "execution_count": null,
      "outputs": [
        {
          "output_type": "stream",
          "text": [
            "Digite um número: 5\n",
            "Digite outro número: 6\n",
            "Segundo\n"
          ],
          "name": "stdout"
        }
      ]
    }
  ]
}